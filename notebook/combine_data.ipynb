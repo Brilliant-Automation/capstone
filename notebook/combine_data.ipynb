{
 "cells": [
  {
   "cell_type": "code",
   "execution_count": 1,
   "id": "7883a46a-7e8e-4b88-a0db-92817c053be0",
   "metadata": {},
   "outputs": [
    {
     "name": "stdout",
     "output_type": "stream",
     "text": [
      "Saved ../Data/process/1#High-Temp Fan.csv\n",
      "Saved ../Data/process/8#Belt Conveyer.csv\n",
      "Saved ../Data/process/Tube Mill.csv\n"
     ]
    }
   ],
   "source": [
    "import pandas as pd\n",
    "import os\n",
    "import re\n",
    "\n",
    "def read_and_split_by_device_and_location(folder_path):\n",
    "    \"\"\"\n",
    "    Reads all .xlsx files from a folder, extracts device and location info from filenames,\n",
    "    adds 'source_file', 'device', and 'location' columns,\n",
    "    and returns a dictionary mapping device names to their corresponding DataFrames.\n",
    "\n",
    "    Parameters:\n",
    "    - folder_path (str): Path to folder containing .xlsx files.\n",
    "\n",
    "    Returns:\n",
    "    - dict: Dictionary where keys are device names and values are DataFrames.\n",
    "    \"\"\"\n",
    "    files = [file for file in os.listdir(folder_path) if file.endswith('.xlsx')]\n",
    "    df_list = []\n",
    "    \n",
    "    for file in files:\n",
    "        file_path = os.path.join(folder_path, file)\n",
    "        df = pd.read_excel(file_path)\n",
    "        \n",
    "        # Extract device name (inside parentheses)\n",
    "        device_match = re.search(r'\\((.*?)\\)', file)\n",
    "        device = device_match.group(1) if device_match else \"Unknown_Device\"\n",
    "        \n",
    "        # Extract location (after parentheses and space)\n",
    "        location_match = re.search(r'\\)\\s*(.*)\\.xlsx$', file)\n",
    "        location = location_match.group(1) if location_match else \"Unknown_Location\"\n",
    "        \n",
    "        df['device'] = device\n",
    "        df['location'] = location\n",
    "        df_list.append(df)\n",
    "    \n",
    "    combined_df = pd.concat(df_list, ignore_index=True)\n",
    "    \n",
    "    # Split the big DataFrame into one per device\n",
    "    device_dfs = {}\n",
    "    for device_name, group_df in combined_df.groupby('device'):\n",
    "        device_dfs[device_name] = group_df.reset_index(drop=True)\n",
    "    \n",
    "    return device_dfs\n",
    "\n",
    "# Example usage\n",
    "folder_path = \"../Data/raw\"\n",
    "device_dataframes = read_and_split_by_device_and_location(folder_path)\n",
    "\n",
    "# Save each device DataFrame to a separate CSV\n",
    "output_folder = \"../Data/process/\"\n",
    "os.makedirs(output_folder, exist_ok=True)\n",
    "\n",
    "for device, df in device_dataframes.items():\n",
    "    safe_device_name = device.replace(\"/\", \"_\").replace(\"\\\\\", \"_\")\n",
    "    output_csv = os.path.join(output_folder, f\"{safe_device_name}.csv\")\n",
    "    df.to_csv(output_csv, index=False, encoding='utf-8-sig')\n",
    "    print(f\"Saved {output_csv}\")\n"
   ]
  },
  {
   "cell_type": "code",
   "execution_count": null,
   "id": "46281df3-b113-4554-baf0-b0127d43ac7f",
   "metadata": {},
   "outputs": [],
   "source": []
  }
 ],
 "metadata": {
  "kernelspec": {
   "display_name": "Python [conda env:base] *",
   "language": "python",
   "name": "conda-base-py"
  },
  "language_info": {
   "codemirror_mode": {
    "name": "ipython",
    "version": 3
   },
   "file_extension": ".py",
   "mimetype": "text/x-python",
   "name": "python",
   "nbconvert_exporter": "python",
   "pygments_lexer": "ipython3",
   "version": "3.11.11"
  }
 },
 "nbformat": 4,
 "nbformat_minor": 5
}
