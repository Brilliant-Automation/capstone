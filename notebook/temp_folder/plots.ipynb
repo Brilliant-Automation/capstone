{
 "cells": [
  {
   "metadata": {},
   "cell_type": "markdown",
   "source": "#### Conveyor Belt",
   "id": "57b9c1bb653e5fc3"
  },
  {
   "metadata": {},
   "cell_type": "markdown",
   "source": "![Alt text](input_target_correlation_heatmap-con_belt.png)\n",
   "id": "80abf4cc88a159a2"
  },
  {
   "cell_type": "code",
   "id": "initial_id",
   "metadata": {
    "collapsed": true,
    "ExecuteTime": {
     "end_time": "2025-06-03T21:07:52.310038Z",
     "start_time": "2025-06-03T21:07:52.308668Z"
    }
   },
   "source": "",
   "outputs": [],
   "execution_count": null
  },
  {
   "metadata": {},
   "cell_type": "markdown",
   "source": "#### High Temp Fun",
   "id": "b0cba8b139a85c7a"
  },
  {
   "metadata": {},
   "cell_type": "markdown",
   "source": "![Alt text](input_target_correlation_heatmap_high_temp_f.png)",
   "id": "71743a7eebe1bbdb"
  },
  {
   "metadata": {},
   "cell_type": "markdown",
   "source": "#### Tube Mill",
   "id": "465d990e129fcff6"
  },
  {
   "metadata": {
    "ExecuteTime": {
     "end_time": "2025-06-03T21:07:52.412822Z",
     "start_time": "2025-06-03T21:07:52.411357Z"
    }
   },
   "cell_type": "code",
   "source": "",
   "id": "db16f78392106dfa",
   "outputs": [],
   "execution_count": null
  }
 ],
 "metadata": {
  "kernelspec": {
   "display_name": "Python 3",
   "language": "python",
   "name": "python3"
  },
  "language_info": {
   "codemirror_mode": {
    "name": "ipython",
    "version": 2
   },
   "file_extension": ".py",
   "mimetype": "text/x-python",
   "name": "python",
   "nbconvert_exporter": "python",
   "pygments_lexer": "ipython2",
   "version": "2.7.6"
  }
 },
 "nbformat": 4,
 "nbformat_minor": 5
}
